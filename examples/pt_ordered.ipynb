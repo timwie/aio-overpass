{
 "cells": [
  {
   "cell_type": "code",
   "execution_count": null,
   "id": "fd936ca4-157c-4de2-ae6e-33ac2cbad2ee",
   "metadata": {
    "editable": true,
    "slideshow": {
     "slide_type": ""
    },
    "tags": [
     "parameters"
    ]
   },
   "outputs": [],
   "source": [
    "id = 1643221\n",
    "zoom = 13\n",
    "interactive = True"
   ]
  },
  {
   "cell_type": "code",
   "execution_count": null,
   "id": "252e4535-cb86-44e3-8543-972b4b28fdd0",
   "metadata": {
    "editable": true,
    "slideshow": {
     "slide_type": ""
    },
    "tags": []
   },
   "outputs": [],
   "source": [
    "import copy\n",
    "\n",
    "from aio_overpass import Client\n",
    "from aio_overpass.query import DefaultQueryRunner\n",
    "from aio_overpass.pt import collect_routes, SingleRouteQuery\n",
    "from aio_overpass.pt_ordered import collect_ordered_routes\n",
    "\n",
    "query = SingleRouteQuery(id)\n",
    "\n",
    "client = Client(runner=DefaultQueryRunner(cache_ttl_secs=5*60))\n",
    "\n",
    "await client.run_query(query)\n",
    "await client.close()\n",
    "\n",
    "\n",
    "q1 = query\n",
    "q2 = copy.deepcopy(q1)\n",
    "\n",
    "route, = collect_routes(query)\n",
    "view, = collect_ordered_routes(query)"
   ]
  },
  {
   "cell_type": "code",
   "execution_count": null,
   "id": "e5058c25-4c41-4a3e-ab96-07acbc4fabc4",
   "metadata": {
    "editable": true,
    "slideshow": {
     "slide_type": ""
    },
    "tags": []
   },
   "outputs": [],
   "source": [
    "import folium\n",
    "from folium.vector_layers import PolyLine\n",
    "import IPython.display\n",
    "import randomcolor\n",
    "from shapely.geometry import GeometryCollection\n",
    "\n",
    "centroid = GeometryCollection([way.geometry for way in route.ways]).centroid\n",
    "\n",
    "m1 = folium.Map(\n",
    "    tiles=\"http://{s}.basemaps.cartocdn.com/light_all/{z}/{x}/{y}.png\",\n",
    "    attr='&copy; <a href=\"http://www.openstreetmap.org/copyright\">OpenStreetMap</a> contributors, &copy; <a href=\"http://cartodb.com/attributions\">CartoDB</a>',\n",
    "    location=centroid.coords[0],\n",
    "    zoom_start=zoom,\n",
    ")\n",
    "m2 = folium.Map(\n",
    "    tiles=\"http://{s}.basemaps.cartocdn.com/light_all/{z}/{x}/{y}.png\",\n",
    "    attr='&copy; <a href=\"http://www.openstreetmap.org/copyright\">OpenStreetMap</a> contributors, &copy; <a href=\"http://cartodb.com/attributions\">CartoDB</a>',\n",
    "    location=centroid.coords[0],\n",
    "    zoom_start=zoom,\n",
    ")\n",
    "\n",
    "colors = randomcolor.RandomColor().generate(\n",
    "    count=len(route.ways),\n",
    "    luminosity=\"bright\",\n",
    "    hue=\"red\",\n",
    ")\n",
    "\n",
    "for way, color in zip(route.ways, colors):\n",
    "    line = PolyLine(\n",
    "        locations=way.geometry.coords,\n",
    "        allow_intersection=True,\n",
    "        color=color,\n",
    "        weight=5,\n",
    "    )\n",
    "    line.add_to(m1)\n",
    "\n",
    "line = PolyLine(\n",
    "    locations=view.path.coords,\n",
    "    allow_intersection=True,\n",
    "    color=\"red\",\n",
    "    weight=5,\n",
    ")\n",
    "line.add_to(m2)\n",
    "\n",
    "if interactive:\n",
    "    IPython.display.display(IPython.display.HTML('<h1>Split geometry</h1>'))\n",
    "    IPython.display.display(m1)\n",
    "    IPython.display.display(IPython.display.HTML('<h1>Simplified geometry</h1>'))\n",
    "    IPython.display.display(m2)\n",
    "else:\n",
    "    image1 = IPython.display.Image(data=m1._to_png(), format='png', embed=True)\n",
    "    image2 = IPython.display.Image(data=m2._to_png(), format='png', embed=True)\n",
    "    IPython.display.display(IPython.display.HTML('<h1>Split geometry</h1>'))\n",
    "    IPython.display.display(image1)\n",
    "    IPython.display.display(IPython.display.HTML('<h1>Simplified geometry</h1>'))\n",
    "    IPython.display.display(image2)"
   ]
  }
 ],
 "metadata": {
  "kernelspec": {
   "display_name": "aio-overpass310",
   "language": "python",
   "name": "aio-overpass310"
  },
  "language_info": {
   "codemirror_mode": {
    "name": "ipython",
    "version": 3
   },
   "file_extension": ".py",
   "mimetype": "text/x-python",
   "name": "python",
   "nbconvert_exporter": "python",
   "pygments_lexer": "ipython3",
   "version": "3.9.17"
  }
 },
 "nbformat": 4,
 "nbformat_minor": 5
}
